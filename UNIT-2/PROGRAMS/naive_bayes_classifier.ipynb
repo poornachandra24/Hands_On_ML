{
 "cells": [
  {
   "cell_type": "markdown",
   "metadata": {},
   "source": [
    " Program 2\n",
    "Program on Word 2 vector and cosine similarity\n",
    "\n",
    "\n",
    "Cosine similarity is a metric used to measure how similar two vectors are in a multi-dimensional space. It is particularly popular in natural language processing and information retrieval for comparing the similarity of documents or words based on their vector representations.\n"
   ]
  },
  {
   "cell_type": "code",
   "execution_count": 7,
   "metadata": {},
   "outputs": [
    {
     "name": "stdout",
     "output_type": "stream",
     "text": [
      "word vector for apples:\n",
      "  0    -1.244198\n",
      "1     0.849777\n",
      "2    -0.847986\n",
      "3     1.536878\n",
      "4     1.451894\n",
      "        ...   \n",
      "91    0.708207\n",
      "92    1.898031\n",
      "93   -0.110315\n",
      "94   -0.203278\n",
      "95    0.668344\n",
      "Name: apples, Length: 96, dtype: float64\n",
      "\n",
      "cosine similarity matrix :\n",
      "              I   like  apples  oranges  pears\n",
      "I        1.000  0.163   0.376    0.168 -0.088\n",
      "like     0.163  1.000   0.073   -0.006  0.217\n",
      "apples   0.376  0.073   1.000    0.750  0.289\n",
      "oranges  0.168 -0.006   0.750    1.000  0.584\n",
      "pears   -0.088  0.217   0.289    0.584  1.000\n"
     ]
    }
   ],
   "source": [
    "import pandas as pd\n",
    "import spacy #natural language processing (NLP) library in Python.\n",
    "from sklearn.metrics.pairwise import cosine_similarity\n",
    "\n",
    "#loads an English language model called \"en_core_web_sm\" from spaCy using spacy.load(). \n",
    "nlp=spacy.load('en_core_web_sm')\n",
    "#This model provides pre-trained word embeddings and other linguistic information for English text.\n",
    "\n",
    "terms=['I','like','apples','oranges','pears']\n",
    "\n",
    "#spaCy's nlp() function to obtain its word embedding vector using .vector. \n",
    "# .tolist() converts this vector to a Python list\n",
    "vectors=[\n",
    "    nlp(term).vector.tolist() for term in terms\n",
    "]\n",
    "\n",
    "# the word vector for 'apples' is extracted from the vectors list using terms.index('apples') \n",
    "# to find the index of 'apples' in the terms list. \n",
    "x=pd.Series(vectors[terms.index('apples')]).rename('apples')\n",
    "print(\"word vector for apples:\\n \",x)#prints the Pandas Series x, which represents the word vector for 'apples'.\n",
    "\n",
    "# a Pandas DataFrame named abc is created\n",
    "abc=pd.DataFrame(\n",
    "    cosine_similarity(vectors),\n",
    "    index=terms,\n",
    "    columns=terms\n",
    ").round(3)\n",
    "\n",
    "#prints the cosine similarity matrix stored in the abc DataFrame. \n",
    "# The matrix shows how similar each term is to every other term in the terms list based on their word embeddings.\n",
    "print(\"\\ncosine similarity matrix :\\n\",abc)\n",
    "\n"
   ]
  },
  {
   "cell_type": "markdown",
   "metadata": {},
   "source": [
    "The value at index 0 is approximately -1.244198, and the value at index 1 is approximately 0.849777. These values indicate the position of the word \"apples\" in a high-dimensional space, where each dimension represents some aspect of the word's meaning.Word vectors are often used to capture semantic information about words, allowing algorithms to understand and work with word meanings in a numerical format."
   ]
  }
 ],
 "metadata": {
  "kernelspec": {
   "display_name": "Python 3",
   "language": "python",
   "name": "python3"
  },
  "language_info": {
   "codemirror_mode": {
    "name": "ipython",
    "version": 3
   },
   "file_extension": ".py",
   "mimetype": "text/x-python",
   "name": "python",
   "nbconvert_exporter": "python",
   "pygments_lexer": "ipython3",
   "version": "3.10.0"
  },
  "orig_nbformat": 4
 },
 "nbformat": 4,
 "nbformat_minor": 2
}
