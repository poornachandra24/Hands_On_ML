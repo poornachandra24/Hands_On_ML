{
  "nbformat": 4,
  "nbformat_minor": 0,
  "metadata": {
    "colab": {
      "provenance": [],
      "gpuType": "T4"
    },
    "kernelspec": {
      "name": "python3",
      "display_name": "Python 3"
    },
    "language_info": {
      "name": "python"
    },
    "accelerator": "GPU"
  },
  "cells": [
    {
      "cell_type": "code",
      "execution_count": null,
      "metadata": {
        "id": "rH1yOymgdmM6"
      },
      "outputs": [],
      "source": [
        "#importing libraries\n",
        "import tensorflow as tf\n",
        "from tensorflow.keras import datasets,layers,models\n",
        "import matplotlib.pyplot as plt\n",
        "import numpy as np\n",
        "\n",
        "\n"
      ]
    },
    {
      "cell_type": "code",
      "source": [
        "#load the dataset\n",
        "(X_train,Y_train),(X_test,Y_test)= datasets.cifar10.load_data()\n",
        "print('Length of training set = ',(len(X_train)))\n",
        "print('Length of testing set = ',(len(X_test)))"
      ],
      "metadata": {
        "colab": {
          "base_uri": "https://localhost:8080/"
        },
        "id": "-x6guBtafF_w",
        "outputId": "37b9f49d-7dfc-43c5-e387-72e49a86727a"
      },
      "execution_count": null,
      "outputs": [
        {
          "output_type": "stream",
          "name": "stdout",
          "text": [
            "Length of training set =  50000\n",
            "Length of testing set =  10000\n"
          ]
        }
      ]
    },
    {
      "cell_type": "markdown",
      "source": [
        "In machine learning, especially when working with neural networks, it's common to have labels in the form of arrays. In the case of CIFAR-10, each label in y_train is initially a 2D array with shape (1, 1) because of the way it's loaded by datasets.cifar10.load_data().\n",
        "\n",
        "The .reshape(-1) operation is used to flatten this 2D array into a 1D array. The -1 argument in the reshape function is a placeholder for an unknown dimension, and it is inferred based on the size of the original array. In this case, it's used to flatten the array.\n"
      ],
      "metadata": {
        "id": "tOTgPU4LiGWP"
      }
    },
    {
      "cell_type": "code",
      "source": [
        "classes=['airplane','automobile','bird','cat','deer','dog','frog','horse','ship','truck']\n",
        "def plot_sample(X,Y,index):\n",
        "  plt.figure(figsize=(15,2))\n",
        "  plt.imshow(X[index])\n",
        "  print(Y[index])\n",
        "  plt.xlabel(classes[(Y[index][0])]) # Use Y[index][0] to get the integer value\n",
        "print(classes)\n",
        "Y_trian = Y_train.reshape(-1)\n",
        "plot_sample(X_train,Y_train,10)"
      ],
      "metadata": {
        "colab": {
          "base_uri": "https://localhost:8080/",
          "height": 273
        },
        "id": "0N5IFFAyfh9H",
        "outputId": "44d6c6e0-6eb6-4c7e-acae-f78ef14f5b52"
      },
      "execution_count": null,
      "outputs": [
        {
          "output_type": "stream",
          "name": "stdout",
          "text": [
            "['airplane', 'automobile', 'bird', 'cat', 'deer', 'dog', 'frog', 'horse', 'ship', 'truck']\n",
            "[4]\n"
          ]
        },
        {
          "output_type": "display_data",
          "data": {
            "text/plain": [
              "<Figure size 1500x200 with 1 Axes>"
            ],
            "image/png": "[encoded data removed]"
          },
          "metadata": {}
        }
      ]
    },
    {
      "cell_type": "code",
      "source": [
        "X_train=X_train/255\n",
        "X_test=X_test/255"
      ],
      "metadata": {
        "id": "taL2gfLdhe7n"
      },
      "execution_count": null,
      "outputs": []
    },
    {
      "cell_type": "code",
      "source": [
        "#building CNN\n",
        "cnn=models.Sequential([\n",
        "layers.Conv2D(filters=32,kernel_size=(3,3),activation='relu',input_shape=(32,32,3)),\n",
        "layers.Conv2D(filters=64,kernel_size=(3,3),activation='relu'),\n",
        "layers.MaxPool2D((2,2)),\n",
        "layers.Flatten(),\n",
        "layers.Dense(64,activation=\"relu\"),\n",
        "layers.Dense(10,activation=\"softmax\")\n",
        "])"
      ],
      "metadata": {
        "id": "T3suEGQvisXX"
      },
      "execution_count": 63,
      "outputs": []
    },
    {
      "cell_type": "code",
      "source": [
        "cnn.summary()"
      ],
      "metadata": {
        "colab": {
          "base_uri": "https://localhost:8080/"
        },
        "id": "FpER9rnujiwM",
        "outputId": "b495549c-bb89-4afe-a4da-badd6a91c7a3"
      },
      "execution_count": 64,
      "outputs": [
        {
          "output_type": "stream",
          "name": "stdout",
          "text": [
            "Model: \"sequential_6\"\n",
            "_________________________________________________________________\n",
            " Layer (type)                Output Shape              Param #   \n",
            "=================================================================\n",
            " conv2d_15 (Conv2D)          (None, 30, 30, 32)        896       \n",
            "                                                                 \n",
            " conv2d_16 (Conv2D)          (None, 28, 28, 64)        18496     \n",
            "                                                                 \n",
            " max_pooling2d_15 (MaxPooli  (None, 14, 14, 64)        0         \n",
            " ng2D)                                                           \n",
            "                                                                 \n",
            " flatten_6 (Flatten)         (None, 12544)             0         \n",
            "                                                                 \n",
            " dense_13 (Dense)            (None, 64)                802880    \n",
            "                                                                 \n",
            " dense_14 (Dense)            (None, 10)                650       \n",
            "                                                                 \n",
            "=================================================================\n",
            "Total params: 822922 (3.14 MB)\n",
            "Trainable params: 822922 (3.14 MB)\n",
            "Non-trainable params: 0 (0.00 Byte)\n",
            "_________________________________________________________________\n"
          ]
        }
      ]
    },
    {
      "cell_type": "code",
      "source": [
        "cnn.compile(optimizer='adam',loss='sparse_categorical_crossentropy',metrics=['accuracy'])\n",
        "cnn.fit(X_train,Y_train,epochs=10)\n"
      ],
      "metadata": {
        "colab": {
          "base_uri": "https://localhost:8080/"
        },
        "id": "vbR4oXknjq5G",
        "outputId": "b362295d-cfcc-424d-a172-85388dd9df8b"
      },
      "execution_count": 65,
      "outputs": [
        {
          "output_type": "stream",
          "name": "stdout",
          "text": [
            "Epoch 1/10\n",
            "1563/1563 [==============================] - 9s 5ms/step - loss: 2.0469 - accuracy: 0.2609\n",
            "Epoch 2/10\n",
            "1563/1563 [==============================] - 7s 4ms/step - loss: 1.8517 - accuracy: 0.3407\n",
            "Epoch 3/10\n",
            "1563/1563 [==============================] - 8s 5ms/step - loss: 1.7828 - accuracy: 0.3618\n",
            "Epoch 4/10\n",
            "1563/1563 [==============================] - 7s 4ms/step - loss: 1.7319 - accuracy: 0.3800\n",
            "Epoch 5/10\n",
            "1563/1563 [==============================] - 7s 5ms/step - loss: 1.6677 - accuracy: 0.4031\n",
            "Epoch 6/10\n",
            "1563/1563 [==============================] - 7s 4ms/step - loss: 1.6263 - accuracy: 0.4178\n",
            "Epoch 7/10\n",
            "1563/1563 [==============================] - 7s 5ms/step - loss: 1.5976 - accuracy: 0.4299\n",
            "Epoch 8/10\n",
            "1563/1563 [==============================] - 7s 4ms/step - loss: 1.5760 - accuracy: 0.4389\n",
            "Epoch 9/10\n",
            "1563/1563 [==============================] - 8s 5ms/step - loss: 1.5584 - accuracy: 0.4476\n",
            "Epoch 10/10\n",
            "1563/1563 [==============================] - 7s 4ms/step - loss: 1.5460 - accuracy: 0.4514\n"
          ]
        },
        {
          "output_type": "execute_result",
          "data": {
            "text/plain": [
              "<keras.src.callbacks.History at 0x79c66b2c70a0>"
            ]
          },
          "metadata": {},
          "execution_count": 65
        }
      ]
    },
    {
      "cell_type": "code",
      "source": [
        "cnn.evaluate(X_test,Y_test)"
      ],
      "metadata": {
        "colab": {
          "base_uri": "https://localhost:8080/"
        },
        "id": "lxCH_GBqkJNe",
        "outputId": "e75cfeea-ccde-4691-8bb3-b9099ce25737"
      },
      "execution_count": 66,
      "outputs": [
        {
          "output_type": "stream",
          "name": "stdout",
          "text": [
            "313/313 [==============================] - 1s 4ms/step - loss: 1.5316 - accuracy: 0.4529\n"
          ]
        },
        {
          "output_type": "execute_result",
          "data": {
            "text/plain": [
              "[1.5315643548965454, 0.4528999924659729]"
            ]
          },
          "metadata": {},
          "execution_count": 66
        }
      ]
    },
    {
      "cell_type": "code",
      "source": [
        "# Evaluate the model on the test set\n",
        "y_pred_probs = cnn.predict(X_test)\n",
        "y_pred = np.argmax(y_pred_probs, axis=1)\n"
      ],
      "metadata": {
        "colab": {
          "base_uri": "https://localhost:8080/"
        },
        "id": "sD2MU0E2sIRv",
        "outputId": "4d76af35-8bc0-4d40-ec8d-5db279b99ef0"
      },
      "execution_count": 67,
      "outputs": [
        {
          "output_type": "stream",
          "name": "stdout",
          "text": [
            "313/313 [==============================] - 1s 3ms/step\n"
          ]
        }
      ]
    },
    {
      "cell_type": "code",
      "source": [
        "from sklearn.metrics import classification_report\n",
        "# Evaluate the model on the test set\n",
        "# Print the classification report\n",
        "report = classification_report(Y_test, y_pred, target_names=classes)\n",
        "print(report)\n"
      ],
      "metadata": {
        "colab": {
          "base_uri": "https://localhost:8080/"
        },
        "id": "N9kJO-SDqPBw",
        "outputId": "a4dd802b-b0db-4bd6-9366-2cbb98ea3baf"
      },
      "execution_count": 68,
      "outputs": [
        {
          "output_type": "stream",
          "name": "stdout",
          "text": [
            "              precision    recall  f1-score   support\n",
            "\n",
            "    airplane       0.61      0.45      0.52      1000\n",
            "  automobile       0.53      0.55      0.54      1000\n",
            "        bird       0.33      0.36      0.34      1000\n",
            "         cat       0.30      0.28      0.29      1000\n",
            "        deer       0.37      0.34      0.36      1000\n",
            "         dog       0.46      0.27      0.34      1000\n",
            "        frog       0.41      0.66      0.51      1000\n",
            "       horse       0.54      0.48      0.51      1000\n",
            "        ship       0.55      0.62      0.58      1000\n",
            "       truck       0.48      0.52      0.50      1000\n",
            "\n",
            "    accuracy                           0.45     10000\n",
            "   macro avg       0.46      0.45      0.45     10000\n",
            "weighted avg       0.46      0.45      0.45     10000\n",
            "\n"
          ]
        }
      ]
    },
    {
      "cell_type": "code",
      "source": [
        "def pplot_sample(X, Y, index):\n",
        "    X=X*255\n",
        "    plt.figure(figsize=(15, 2))\n",
        "    plt.imshow(X[index])\n",
        "    predicted_class_index = Y[index]\n",
        "\n",
        "    # Ensure the predicted class index is an integer\n",
        "    if isinstance(predicted_class_index, np.ndarray):\n",
        "        predicted_class_index = predicted_class_index[0]\n",
        "\n",
        "    plt.title(classes[predicted_class_index])\n",
        "    plt.show()\n",
        "pplot_sample(X_test,y_pred,10)"
      ],
      "metadata": {
        "colab": {
          "base_uri": "https://localhost:8080/",
          "height": 237
        },
        "id": "jHsY5s2g5oiO",
        "outputId": "7e548153-7511-4733-db4c-12092602c118"
      },
      "execution_count": 72,
      "outputs": [
        {
          "output_type": "display_data",
          "data": {
            "text/plain": [
              "<Figure size 1500x200 with 1 Axes>"
            ],
            "image/png": "[encoded data removed]"
          },
          "metadata": {}
        }
      ]
    }
  ]
}