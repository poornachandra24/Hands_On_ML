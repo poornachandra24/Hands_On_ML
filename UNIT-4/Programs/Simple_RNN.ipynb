{
  "cells": [
    {
      "cell_type": "code",
      "execution_count": 1,
      "metadata": {
        "id": "sDDdyxUt2pUM"
      },
      "outputs": [],
      "source": [
        "import tensorflow as tf\n",
        "tf.random.set_seed(1)\n"
      ]
    },
    {
      "cell_type": "markdown",
      "metadata": {
        "id": "zQq2-5Mw5lrd"
      },
      "source": [
        "Creates a SimpleRNN layer with 2 units (neurons), uses bias, and returns the full sequence of outputs for each timestep."
      ]
    },
    {
      "cell_type": "code",
      "execution_count": 2,
      "metadata": {
        "id": "JdJG34hw5FWU"
      },
      "outputs": [],
      "source": [
        "rnn_layer=tf.keras.layers.SimpleRNN(\n",
        "    units=2,#specifies the number of units or neurons in the RNN layer\n",
        "    use_bias=True,\n",
        "    return_sequences=True#determines whether to return the full sequence of outputs for each timestep in the input sequence (True) or only the output at the last timestep (False)\n",
        ")\n"
      ]
    },
    {
      "cell_type": "markdown",
      "metadata": {
        "id": "HfKNwaFi6C8l"
      },
      "source": [
        "Builds the RNN layer with a specified input shape of (batch_size, timesteps, input_features). Here, None indicates that the batch size and number of timesteps can be variable, and each input has 5 features."
      ]
    },
    {
      "cell_type": "code",
      "execution_count": 3,
      "metadata": {
        "id": "-52lIOQF6Bxt"
      },
      "outputs": [],
      "source": [
        "rnn_layer.build(input_shape=(None,None,5))"
      ]
    },
    {
      "cell_type": "code",
      "execution_count": 4,
      "metadata": {
        "colab": {
          "base_uri": "https://localhost:8080/"
        },
        "id": "Afj4-mCV6Jj7",
        "outputId": "301ab8f9-a952-4d14-bde3-4be17f537531"
      },
      "outputs": [
        {
          "name": "stdout",
          "output_type": "stream",
          "text": [
            "w_xh shape: (5, 2)\n",
            "w_oo shape: (2, 2)\n",
            "b_h shape: (2,)\n"
          ]
        }
      ],
      "source": [
        "w_xh, w_oo, b_h = rnn_layer.weights\n",
        "#weight matrices\n",
        "print('w_xh shape:',w_xh.shape)\n",
        "print('w_oo shape:',w_oo.shape)\n",
        "#bias vector\n",
        "print('b_h shape:',b_h.shape)"
      ]
    },
    {
      "cell_type": "code",
      "execution_count": 5,
      "metadata": {
        "colab": {
          "base_uri": "https://localhost:8080/"
        },
        "id": "OjR_G3Cw8uvP",
        "outputId": "21df5171-cccd-4268-e3b2-18617ddda4b8"
      },
      "outputs": [
        {
          "data": {
            "text/plain": [
              "(<tf.Variable 'simple_rnn_cell/kernel:0' shape=(5, 2) dtype=float32, numpy=\n",
              " array([[-0.8766506 ,  0.9172727 ],\n",
              "        [-0.37667286,  0.6936799 ],\n",
              "        [-0.44308627, -0.71843755],\n",
              "        [-0.627252  ,  0.8343315 ],\n",
              "        [-0.00902045,  0.08299422]], dtype=float32)>,\n",
              " <tf.Variable 'simple_rnn_cell/recurrent_kernel:0' shape=(2, 2) dtype=float32, numpy=\n",
              " array([[ 0.57300806, -0.8195498 ],\n",
              "        [ 0.8195498 ,  0.573008  ]], dtype=float32)>,\n",
              " <tf.Variable 'simple_rnn_cell/bias:0' shape=(2,) dtype=float32, numpy=array([0., 0.], dtype=float32)>)"
            ]
          },
          "execution_count": 5,
          "metadata": {},
          "output_type": "execute_result"
        }
      ],
      "source": [
        "w_xh, w_oo, b_h"
      ]
    },
    {
      "cell_type": "code",
      "execution_count": 6,
      "metadata": {
        "colab": {
          "base_uri": "https://localhost:8080/"
        },
        "id": "-i6D7I5v6a3M",
        "outputId": "6246d82e-d480-4092-84b2-40a2527cf890"
      },
      "outputs": [
        {
          "name": "stdout",
          "output_type": "stream",
          "text": [
            "The weights of input to hidden layer:w_xh\n",
            "[[-0.8766506   0.9172727 ]\n",
            " [-0.37667286  0.6936799 ]\n",
            " [-0.44308627 -0.71843755]\n",
            " [-0.627252    0.8343315 ]\n",
            " [-0.00902045  0.08299422]]\n",
            "\n",
            "The weights of output to output layer:w_oo\n",
            "[[ 0.57300806 -0.8195498 ]\n",
            " [ 0.8195498   0.573008  ]]\n",
            "\n",
            "The weights of bias of hidden layer:b_h\n",
            "[0. 0.]\n"
          ]
        }
      ],
      "source": [
        "print('The weights of input to hidden layer:w_xh')\n",
        "print(w_xh.numpy())\n",
        "print('\\nThe weights of output to output layer:w_oo')\n",
        "print(w_oo.numpy())\n",
        "print('\\nThe weights of bias of hidden layer:b_h')\n",
        "print(b_h.numpy())\n"
      ]
    },
    {
      "cell_type": "markdown",
      "metadata": {
        "id": "4aT7PkoA7Lrt"
      },
      "source": [
        "Creates a sequence of input tensors with shape (3, 5), representing three timesteps with each timestep having a vector of 5 features."
      ]
    },
    {
      "cell_type": "code",
      "execution_count": 7,
      "metadata": {
        "colab": {
          "base_uri": "https://localhost:8080/"
        },
        "id": "a2xZ1Okb6qpk",
        "outputId": "bf696264-8274-42b8-d7eb-b6f93a11b609"
      },
      "outputs": [
        {
          "name": "stdout",
          "output_type": "stream",
          "text": [
            "Input:\n",
            "tf.Tensor(\n",
            "[[1. 1. 1. 1. 1.]\n",
            " [2. 2. 2. 2. 2.]\n",
            " [3. 3. 3. 3. 3.]], shape=(3, 5), dtype=float32)\n"
          ]
        }
      ],
      "source": [
        "x_seq=tf.convert_to_tensor(\n",
        "    [[1.0]*5,[2.0]*5,[3.0]*5],\n",
        "    dtype=tf.float32\n",
        ")\n",
        "\n",
        "print('Input:')\n",
        "print(x_seq)"
      ]
    },
    {
      "cell_type": "markdown",
      "metadata": {
        "id": "zpumFiD676F8"
      },
      "source": [
        "Passes the reshaped input sequence through the SimpleRNN layer to obtain the output. The reshape is done to add a batch dimension since the RNN layer expects input in the shape (batch_size, timesteps, input_features)."
      ]
    },
    {
      "cell_type": "code",
      "execution_count": 8,
      "metadata": {
        "id": "1m_K9zf97m1l"
      },
      "outputs": [],
      "source": [
        "#output of SimpleRNN\n",
        "# treating a single sequence with 3 time steps and 5 features as 1 batch for the RNN layer.\n",
        "output=rnn_layer(tf.reshape(x_seq, shape=(1,3,5)))"
      ]
    },
    {
      "cell_type": "code",
      "execution_count": 9,
      "metadata": {},
      "outputs": [
        {
          "data": {
            "text/plain": [
              "<tf.Tensor: shape=(1, 3, 2), dtype=float32, numpy=\n",
              "array([[[-0.98134404,  0.94781566],\n",
              "        [-0.9997276 ,  0.999903  ],\n",
              "        [-0.99999744,  0.9999977 ]]], dtype=float32)>"
            ]
          },
          "execution_count": 9,
          "metadata": {},
          "output_type": "execute_result"
        }
      ],
      "source": [
        "output"
      ]
    },
    {
      "cell_type": "markdown",
      "metadata": {
        "id": "bdmyd6Q0_9YN"
      },
      "source": [
        "A loop iterates over each timestep of the input sequence.\n",
        "For each timestep, it prints the input, weights, and biases.\n",
        "Computes the hidden state (ht) using the SimpleRNN update rule.\n",
        "Computes the output (ot) manually using the hidden state and weights to the output layer.\n",
        "Applies the hyperbolic tangent (tanh) activation function to the output.\n",
        "Prints the manually computed output for each timestep."
      ]
    },
    {
      "cell_type": "code",
      "execution_count": 22,
      "metadata": {
        "colab": {
          "base_uri": "https://localhost:8080/"
        },
        "id": "jk8Qd_gN9Abb",
        "outputId": "673ee608-ebfb-4e11-e211-be1ca578cb57"
      },
      "outputs": [
        {
          "name": "stdout",
          "output_type": "stream",
          "text": [
            "\n",
            "\n",
            "\n",
            "timestep t= 0\n",
            "Time step 0=>\n",
            "Input xt= : [[1. 1. 1. 1. 1.]]\n",
            "\n",
            " w_xh : [[ 0.9245993   0.33459878]\n",
            " [-0.26637006 -0.61695325]\n",
            " [ 0.43761563 -0.33505726]\n",
            " [ 0.03919727 -0.5819472 ]\n",
            " [-0.904947   -0.5740896 ]]\n",
            "\n",
            "b_h : [0. 0.]\n",
            "\n",
            "ht=xt*w_xh+b_h : [[ 0.23009521 -1.7734485 ]]\n",
            "\n",
            "ht = [[ 0.23009521 -1.7734485 ]]\n",
            "\n",
            "ot = ht+prev_o*w_oo before tanh = [[ 0.23009521 -1.7734485 ]]\n",
            "\n",
            "output (manual)@ timestep 0 : [[ 0.22611868 -0.9439862 ]]\n",
            "\n",
            "\n",
            "\n",
            "timestep t= 1\n",
            "Time step 1=>\n",
            "Input xt= : [[2. 2. 2. 2. 2.]]\n",
            "\n",
            " w_xh : [[ 0.9245993   0.33459878]\n",
            " [-0.26637006 -0.61695325]\n",
            " [ 0.43761563 -0.33505726]\n",
            " [ 0.03919727 -0.5819472 ]\n",
            " [-0.904947   -0.5740896 ]]\n",
            "\n",
            "b_h : [0. 0.]\n",
            "\n",
            "ht=xt*w_xh+b_h : [[ 0.46019042 -3.546897  ]]\n",
            "\n",
            "prev_o= [[ 0.22611868 -0.9439862 ]]\n",
            "\n",
            "ht = [[ 0.46019042 -3.546897  ]]\n",
            "\n",
            "ot = ht+prev_o*w_oo before tanh = [[ 0.9734181 -2.7229815]]\n",
            "\n",
            "output (manual)@ timestep 1 : [[ 0.75020254 -0.9914097 ]]\n",
            "\n",
            "\n",
            "\n",
            "timestep t= 2\n",
            "Time step 2=>\n",
            "Input xt= : [[3. 3. 3. 3. 3.]]\n",
            "\n",
            " w_xh : [[ 0.9245993   0.33459878]\n",
            " [-0.26637006 -0.61695325]\n",
            " [ 0.43761563 -0.33505726]\n",
            " [ 0.03919727 -0.5819472 ]\n",
            " [-0.904947   -0.5740896 ]]\n",
            "\n",
            "b_h : [0. 0.]\n",
            "\n",
            "ht=xt*w_xh+b_h : [[ 0.6902857 -5.320346 ]]\n",
            "\n",
            "prev_o= [[ 0.75020254 -0.9914097 ]]\n",
            "\n",
            "ht = [[ 0.6902857 -5.320346 ]]\n",
            "\n",
            "ot = ht+prev_o*w_oo before tanh = [[ 1.7156706 -4.6172934]]\n",
            "\n",
            "output (manual)@ timestep 2 : [[ 0.9373396  -0.99980474]]\n",
            "\n",
            "\n",
            "SimpleRNN output:\n",
            "[[ 0.22611868 -0.9439862 ]\n",
            " [ 0.75020254 -0.9914097 ]\n",
            " [ 0.9373396  -0.99980474]]\n"
          ]
        }
      ],
      "source": [
        "#intialize an empty list\n",
        "out_man = []\n",
        "for t in range(len(x_seq)):\n",
        "\n",
        "    print('\\n\\n\\ntimestep t=', t)\n",
        "    xt = tf.reshape(x_seq[t], (1, 5))#input at time step t is being treated as a batch of size 1, with each element having 5 features.\n",
        "    print('Time step {}=>'.format(t))\n",
        "    print('Input xt= :', xt.numpy())\n",
        "    print('\\n w_xh :', w_xh.numpy())\n",
        "    print('\\nb_h :', b_h.numpy())\n",
        "\n",
        "    ht = tf.matmul(xt, w_xh) + b_h\n",
        "    print('\\nht=xt*w_xh+b_h :', ht.numpy())\n",
        "\n",
        "    if t > 0:\n",
        "        prev_o = out_man[t-1]\n",
        "        print('\\nprev_o=', prev_o.numpy())\n",
        "    else:\n",
        "        prev_o = tf.zeros(shape=(ht.shape))\n",
        "\n",
        "    print('\\nht =', ht.numpy())\n",
        "    ot = ht + tf.matmul(prev_o, w_oo)\n",
        "    print('\\not = ht+prev_o*w_oo before tanh =', ot.numpy())\n",
        "    ot = tf.math.tanh(ot)\n",
        "    out_man.append(ot)\n",
        "    print(f'\\noutput (manual)@ timestep {t} :', ot.numpy())\n",
        "\n",
        "print('\\n\\nSimpleRNN output:')\n",
        "print(output[0].numpy())\n"
      ]
    }
  ],
  "metadata": {
    "colab": {
      "provenance": []
    },
    "kernelspec": {
      "display_name": "Python 3",
      "name": "python3"
    },
    "language_info": {
      "codemirror_mode": {
        "name": "ipython",
        "version": 3
      },
      "file_extension": ".py",
      "mimetype": "text/x-python",
      "name": "python",
      "nbconvert_exporter": "python",
      "pygments_lexer": "ipython3",
      "version": "3.10.0"
    }
  },
  "nbformat": 4,
  "nbformat_minor": 0
}
